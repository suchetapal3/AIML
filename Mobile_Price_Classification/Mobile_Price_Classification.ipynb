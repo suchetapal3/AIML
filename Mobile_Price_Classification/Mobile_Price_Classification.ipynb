{
 "cells": [
  {
   "cell_type": "markdown",
   "id": "57e14050",
   "metadata": {},
   "source": [
    "# Context:\n",
    "Bob has started his own mobile company. He wants to give tough fight to big companies like Apple,Samsung etc.\n",
    "\n",
    "He does not know how to estimate price of mobiles his company creates. In this competitive mobile phone market you cannot simply assume things. To solve this problem he collects sales data of mobile phones of various companies.\n",
    "\n",
    "Bob wants to find out some relation between features of a mobile phone(eg:- RAM,Internal Memory etc) and its selling price. But he is not so good at Machine Learning. So he needs your help to solve this problem."
   ]
  },
  {
   "cell_type": "code",
   "execution_count": 2,
   "id": "b804fe19",
   "metadata": {},
   "outputs": [],
   "source": [
    "import numpy as np\n",
    "import pandas as pd\n",
    "import seaborn as sns\n",
    "sns.set()\n",
    "import matplotlib.pyplot as plt\n",
    "%matplotlib inline\n",
    "import warnings\n",
    "warnings.filterwarnings(\"ignore\")"
   ]
  },
  {
   "cell_type": "code",
   "execution_count": 3,
   "id": "bc4597f7",
   "metadata": {},
   "outputs": [],
   "source": [
    "df_train = pd.read_csv(\"train.csv\")\n",
    "df_test = pd.read_csv(\"test.csv\")"
   ]
  },
  {
   "cell_type": "code",
   "execution_count": 4,
   "id": "7898e03d",
   "metadata": {},
   "outputs": [
    {
     "data": {
      "text/html": [
       "<div>\n",
       "<style scoped>\n",
       "    .dataframe tbody tr th:only-of-type {\n",
       "        vertical-align: middle;\n",
       "    }\n",
       "\n",
       "    .dataframe tbody tr th {\n",
       "        vertical-align: top;\n",
       "    }\n",
       "\n",
       "    .dataframe thead th {\n",
       "        text-align: right;\n",
       "    }\n",
       "</style>\n",
       "<table border=\"1\" class=\"dataframe\">\n",
       "  <thead>\n",
       "    <tr style=\"text-align: right;\">\n",
       "      <th></th>\n",
       "      <th>battery_power</th>\n",
       "      <th>blue</th>\n",
       "      <th>clock_speed</th>\n",
       "      <th>dual_sim</th>\n",
       "      <th>fc</th>\n",
       "      <th>four_g</th>\n",
       "      <th>int_memory</th>\n",
       "      <th>m_dep</th>\n",
       "      <th>mobile_wt</th>\n",
       "      <th>n_cores</th>\n",
       "      <th>...</th>\n",
       "      <th>px_height</th>\n",
       "      <th>px_width</th>\n",
       "      <th>ram</th>\n",
       "      <th>sc_h</th>\n",
       "      <th>sc_w</th>\n",
       "      <th>talk_time</th>\n",
       "      <th>three_g</th>\n",
       "      <th>touch_screen</th>\n",
       "      <th>wifi</th>\n",
       "      <th>price_range</th>\n",
       "    </tr>\n",
       "  </thead>\n",
       "  <tbody>\n",
       "    <tr>\n",
       "      <th>0</th>\n",
       "      <td>842</td>\n",
       "      <td>0</td>\n",
       "      <td>2.2</td>\n",
       "      <td>0</td>\n",
       "      <td>1</td>\n",
       "      <td>0</td>\n",
       "      <td>7</td>\n",
       "      <td>0.6</td>\n",
       "      <td>188</td>\n",
       "      <td>2</td>\n",
       "      <td>...</td>\n",
       "      <td>20</td>\n",
       "      <td>756</td>\n",
       "      <td>2549</td>\n",
       "      <td>9</td>\n",
       "      <td>7</td>\n",
       "      <td>19</td>\n",
       "      <td>0</td>\n",
       "      <td>0</td>\n",
       "      <td>1</td>\n",
       "      <td>1</td>\n",
       "    </tr>\n",
       "    <tr>\n",
       "      <th>1</th>\n",
       "      <td>1021</td>\n",
       "      <td>1</td>\n",
       "      <td>0.5</td>\n",
       "      <td>1</td>\n",
       "      <td>0</td>\n",
       "      <td>1</td>\n",
       "      <td>53</td>\n",
       "      <td>0.7</td>\n",
       "      <td>136</td>\n",
       "      <td>3</td>\n",
       "      <td>...</td>\n",
       "      <td>905</td>\n",
       "      <td>1988</td>\n",
       "      <td>2631</td>\n",
       "      <td>17</td>\n",
       "      <td>3</td>\n",
       "      <td>7</td>\n",
       "      <td>1</td>\n",
       "      <td>1</td>\n",
       "      <td>0</td>\n",
       "      <td>2</td>\n",
       "    </tr>\n",
       "    <tr>\n",
       "      <th>2</th>\n",
       "      <td>563</td>\n",
       "      <td>1</td>\n",
       "      <td>0.5</td>\n",
       "      <td>1</td>\n",
       "      <td>2</td>\n",
       "      <td>1</td>\n",
       "      <td>41</td>\n",
       "      <td>0.9</td>\n",
       "      <td>145</td>\n",
       "      <td>5</td>\n",
       "      <td>...</td>\n",
       "      <td>1263</td>\n",
       "      <td>1716</td>\n",
       "      <td>2603</td>\n",
       "      <td>11</td>\n",
       "      <td>2</td>\n",
       "      <td>9</td>\n",
       "      <td>1</td>\n",
       "      <td>1</td>\n",
       "      <td>0</td>\n",
       "      <td>2</td>\n",
       "    </tr>\n",
       "    <tr>\n",
       "      <th>3</th>\n",
       "      <td>615</td>\n",
       "      <td>1</td>\n",
       "      <td>2.5</td>\n",
       "      <td>0</td>\n",
       "      <td>0</td>\n",
       "      <td>0</td>\n",
       "      <td>10</td>\n",
       "      <td>0.8</td>\n",
       "      <td>131</td>\n",
       "      <td>6</td>\n",
       "      <td>...</td>\n",
       "      <td>1216</td>\n",
       "      <td>1786</td>\n",
       "      <td>2769</td>\n",
       "      <td>16</td>\n",
       "      <td>8</td>\n",
       "      <td>11</td>\n",
       "      <td>1</td>\n",
       "      <td>0</td>\n",
       "      <td>0</td>\n",
       "      <td>2</td>\n",
       "    </tr>\n",
       "    <tr>\n",
       "      <th>4</th>\n",
       "      <td>1821</td>\n",
       "      <td>1</td>\n",
       "      <td>1.2</td>\n",
       "      <td>0</td>\n",
       "      <td>13</td>\n",
       "      <td>1</td>\n",
       "      <td>44</td>\n",
       "      <td>0.6</td>\n",
       "      <td>141</td>\n",
       "      <td>2</td>\n",
       "      <td>...</td>\n",
       "      <td>1208</td>\n",
       "      <td>1212</td>\n",
       "      <td>1411</td>\n",
       "      <td>8</td>\n",
       "      <td>2</td>\n",
       "      <td>15</td>\n",
       "      <td>1</td>\n",
       "      <td>1</td>\n",
       "      <td>0</td>\n",
       "      <td>1</td>\n",
       "    </tr>\n",
       "  </tbody>\n",
       "</table>\n",
       "<p>5 rows × 21 columns</p>\n",
       "</div>"
      ],
      "text/plain": [
       "   battery_power  blue  clock_speed  dual_sim  fc  four_g  int_memory  m_dep  \\\n",
       "0            842     0          2.2         0   1       0           7    0.6   \n",
       "1           1021     1          0.5         1   0       1          53    0.7   \n",
       "2            563     1          0.5         1   2       1          41    0.9   \n",
       "3            615     1          2.5         0   0       0          10    0.8   \n",
       "4           1821     1          1.2         0  13       1          44    0.6   \n",
       "\n",
       "   mobile_wt  n_cores  ...  px_height  px_width   ram  sc_h  sc_w  talk_time  \\\n",
       "0        188        2  ...         20       756  2549     9     7         19   \n",
       "1        136        3  ...        905      1988  2631    17     3          7   \n",
       "2        145        5  ...       1263      1716  2603    11     2          9   \n",
       "3        131        6  ...       1216      1786  2769    16     8         11   \n",
       "4        141        2  ...       1208      1212  1411     8     2         15   \n",
       "\n",
       "   three_g  touch_screen  wifi  price_range  \n",
       "0        0             0     1            1  \n",
       "1        1             1     0            2  \n",
       "2        1             1     0            2  \n",
       "3        1             0     0            2  \n",
       "4        1             1     0            1  \n",
       "\n",
       "[5 rows x 21 columns]"
      ]
     },
     "execution_count": 4,
     "metadata": {},
     "output_type": "execute_result"
    }
   ],
   "source": [
    "df_train.head()"
   ]
  },
  {
   "cell_type": "code",
   "execution_count": 5,
   "id": "9da75a59",
   "metadata": {},
   "outputs": [
    {
     "data": {
      "text/plain": [
       "battery_power      int64\n",
       "blue               int64\n",
       "clock_speed      float64\n",
       "dual_sim           int64\n",
       "fc                 int64\n",
       "four_g             int64\n",
       "int_memory         int64\n",
       "m_dep            float64\n",
       "mobile_wt          int64\n",
       "n_cores            int64\n",
       "pc                 int64\n",
       "px_height          int64\n",
       "px_width           int64\n",
       "ram                int64\n",
       "sc_h               int64\n",
       "sc_w               int64\n",
       "talk_time          int64\n",
       "three_g            int64\n",
       "touch_screen       int64\n",
       "wifi               int64\n",
       "price_range        int64\n",
       "dtype: object"
      ]
     },
     "execution_count": 5,
     "metadata": {},
     "output_type": "execute_result"
    }
   ],
   "source": [
    "df_train.dtypes"
   ]
  },
  {
   "cell_type": "code",
   "execution_count": 6,
   "id": "9b97067c",
   "metadata": {},
   "outputs": [
    {
     "data": {
      "text/html": [
       "<div>\n",
       "<style scoped>\n",
       "    .dataframe tbody tr th:only-of-type {\n",
       "        vertical-align: middle;\n",
       "    }\n",
       "\n",
       "    .dataframe tbody tr th {\n",
       "        vertical-align: top;\n",
       "    }\n",
       "\n",
       "    .dataframe thead th {\n",
       "        text-align: right;\n",
       "    }\n",
       "</style>\n",
       "<table border=\"1\" class=\"dataframe\">\n",
       "  <thead>\n",
       "    <tr style=\"text-align: right;\">\n",
       "      <th></th>\n",
       "      <th>id</th>\n",
       "      <th>battery_power</th>\n",
       "      <th>blue</th>\n",
       "      <th>clock_speed</th>\n",
       "      <th>dual_sim</th>\n",
       "      <th>fc</th>\n",
       "      <th>four_g</th>\n",
       "      <th>int_memory</th>\n",
       "      <th>m_dep</th>\n",
       "      <th>mobile_wt</th>\n",
       "      <th>...</th>\n",
       "      <th>pc</th>\n",
       "      <th>px_height</th>\n",
       "      <th>px_width</th>\n",
       "      <th>ram</th>\n",
       "      <th>sc_h</th>\n",
       "      <th>sc_w</th>\n",
       "      <th>talk_time</th>\n",
       "      <th>three_g</th>\n",
       "      <th>touch_screen</th>\n",
       "      <th>wifi</th>\n",
       "    </tr>\n",
       "  </thead>\n",
       "  <tbody>\n",
       "    <tr>\n",
       "      <th>0</th>\n",
       "      <td>1</td>\n",
       "      <td>1043</td>\n",
       "      <td>1</td>\n",
       "      <td>1.8</td>\n",
       "      <td>1</td>\n",
       "      <td>14</td>\n",
       "      <td>0</td>\n",
       "      <td>5</td>\n",
       "      <td>0.1</td>\n",
       "      <td>193</td>\n",
       "      <td>...</td>\n",
       "      <td>16</td>\n",
       "      <td>226</td>\n",
       "      <td>1412</td>\n",
       "      <td>3476</td>\n",
       "      <td>12</td>\n",
       "      <td>7</td>\n",
       "      <td>2</td>\n",
       "      <td>0</td>\n",
       "      <td>1</td>\n",
       "      <td>0</td>\n",
       "    </tr>\n",
       "    <tr>\n",
       "      <th>1</th>\n",
       "      <td>2</td>\n",
       "      <td>841</td>\n",
       "      <td>1</td>\n",
       "      <td>0.5</td>\n",
       "      <td>1</td>\n",
       "      <td>4</td>\n",
       "      <td>1</td>\n",
       "      <td>61</td>\n",
       "      <td>0.8</td>\n",
       "      <td>191</td>\n",
       "      <td>...</td>\n",
       "      <td>12</td>\n",
       "      <td>746</td>\n",
       "      <td>857</td>\n",
       "      <td>3895</td>\n",
       "      <td>6</td>\n",
       "      <td>0</td>\n",
       "      <td>7</td>\n",
       "      <td>1</td>\n",
       "      <td>0</td>\n",
       "      <td>0</td>\n",
       "    </tr>\n",
       "    <tr>\n",
       "      <th>2</th>\n",
       "      <td>3</td>\n",
       "      <td>1807</td>\n",
       "      <td>1</td>\n",
       "      <td>2.8</td>\n",
       "      <td>0</td>\n",
       "      <td>1</td>\n",
       "      <td>0</td>\n",
       "      <td>27</td>\n",
       "      <td>0.9</td>\n",
       "      <td>186</td>\n",
       "      <td>...</td>\n",
       "      <td>4</td>\n",
       "      <td>1270</td>\n",
       "      <td>1366</td>\n",
       "      <td>2396</td>\n",
       "      <td>17</td>\n",
       "      <td>10</td>\n",
       "      <td>10</td>\n",
       "      <td>0</td>\n",
       "      <td>1</td>\n",
       "      <td>1</td>\n",
       "    </tr>\n",
       "    <tr>\n",
       "      <th>3</th>\n",
       "      <td>4</td>\n",
       "      <td>1546</td>\n",
       "      <td>0</td>\n",
       "      <td>0.5</td>\n",
       "      <td>1</td>\n",
       "      <td>18</td>\n",
       "      <td>1</td>\n",
       "      <td>25</td>\n",
       "      <td>0.5</td>\n",
       "      <td>96</td>\n",
       "      <td>...</td>\n",
       "      <td>20</td>\n",
       "      <td>295</td>\n",
       "      <td>1752</td>\n",
       "      <td>3893</td>\n",
       "      <td>10</td>\n",
       "      <td>0</td>\n",
       "      <td>7</td>\n",
       "      <td>1</td>\n",
       "      <td>1</td>\n",
       "      <td>0</td>\n",
       "    </tr>\n",
       "    <tr>\n",
       "      <th>4</th>\n",
       "      <td>5</td>\n",
       "      <td>1434</td>\n",
       "      <td>0</td>\n",
       "      <td>1.4</td>\n",
       "      <td>0</td>\n",
       "      <td>11</td>\n",
       "      <td>1</td>\n",
       "      <td>49</td>\n",
       "      <td>0.5</td>\n",
       "      <td>108</td>\n",
       "      <td>...</td>\n",
       "      <td>18</td>\n",
       "      <td>749</td>\n",
       "      <td>810</td>\n",
       "      <td>1773</td>\n",
       "      <td>15</td>\n",
       "      <td>8</td>\n",
       "      <td>7</td>\n",
       "      <td>1</td>\n",
       "      <td>0</td>\n",
       "      <td>1</td>\n",
       "    </tr>\n",
       "  </tbody>\n",
       "</table>\n",
       "<p>5 rows × 21 columns</p>\n",
       "</div>"
      ],
      "text/plain": [
       "   id  battery_power  blue  clock_speed  dual_sim  fc  four_g  int_memory  \\\n",
       "0   1           1043     1          1.8         1  14       0           5   \n",
       "1   2            841     1          0.5         1   4       1          61   \n",
       "2   3           1807     1          2.8         0   1       0          27   \n",
       "3   4           1546     0          0.5         1  18       1          25   \n",
       "4   5           1434     0          1.4         0  11       1          49   \n",
       "\n",
       "   m_dep  mobile_wt  ...  pc  px_height  px_width   ram  sc_h  sc_w  \\\n",
       "0    0.1        193  ...  16        226      1412  3476    12     7   \n",
       "1    0.8        191  ...  12        746       857  3895     6     0   \n",
       "2    0.9        186  ...   4       1270      1366  2396    17    10   \n",
       "3    0.5         96  ...  20        295      1752  3893    10     0   \n",
       "4    0.5        108  ...  18        749       810  1773    15     8   \n",
       "\n",
       "   talk_time  three_g  touch_screen  wifi  \n",
       "0          2        0             1     0  \n",
       "1          7        1             0     0  \n",
       "2         10        0             1     1  \n",
       "3          7        1             1     0  \n",
       "4          7        1             0     1  \n",
       "\n",
       "[5 rows x 21 columns]"
      ]
     },
     "execution_count": 6,
     "metadata": {},
     "output_type": "execute_result"
    }
   ],
   "source": [
    "df_test.head()"
   ]
  },
  {
   "cell_type": "code",
   "execution_count": 7,
   "id": "ad7d8300",
   "metadata": {},
   "outputs": [
    {
     "data": {
      "text/plain": [
       "id                 int64\n",
       "battery_power      int64\n",
       "blue               int64\n",
       "clock_speed      float64\n",
       "dual_sim           int64\n",
       "fc                 int64\n",
       "four_g             int64\n",
       "int_memory         int64\n",
       "m_dep            float64\n",
       "mobile_wt          int64\n",
       "n_cores            int64\n",
       "pc                 int64\n",
       "px_height          int64\n",
       "px_width           int64\n",
       "ram                int64\n",
       "sc_h               int64\n",
       "sc_w               int64\n",
       "talk_time          int64\n",
       "three_g            int64\n",
       "touch_screen       int64\n",
       "wifi               int64\n",
       "dtype: object"
      ]
     },
     "execution_count": 7,
     "metadata": {},
     "output_type": "execute_result"
    }
   ],
   "source": [
    "df_test.dtypes"
   ]
  },
  {
   "cell_type": "code",
   "execution_count": 8,
   "id": "69f9474d",
   "metadata": {},
   "outputs": [
    {
     "data": {
      "text/html": [
       "<div>\n",
       "<style scoped>\n",
       "    .dataframe tbody tr th:only-of-type {\n",
       "        vertical-align: middle;\n",
       "    }\n",
       "\n",
       "    .dataframe tbody tr th {\n",
       "        vertical-align: top;\n",
       "    }\n",
       "\n",
       "    .dataframe thead th {\n",
       "        text-align: right;\n",
       "    }\n",
       "</style>\n",
       "<table border=\"1\" class=\"dataframe\">\n",
       "  <thead>\n",
       "    <tr style=\"text-align: right;\">\n",
       "      <th></th>\n",
       "      <th>battery_power</th>\n",
       "      <th>blue</th>\n",
       "      <th>clock_speed</th>\n",
       "      <th>dual_sim</th>\n",
       "      <th>fc</th>\n",
       "      <th>four_g</th>\n",
       "      <th>int_memory</th>\n",
       "      <th>m_dep</th>\n",
       "      <th>mobile_wt</th>\n",
       "      <th>n_cores</th>\n",
       "      <th>...</th>\n",
       "      <th>px_width</th>\n",
       "      <th>ram</th>\n",
       "      <th>sc_h</th>\n",
       "      <th>sc_w</th>\n",
       "      <th>talk_time</th>\n",
       "      <th>three_g</th>\n",
       "      <th>touch_screen</th>\n",
       "      <th>wifi</th>\n",
       "      <th>price_range</th>\n",
       "      <th>id</th>\n",
       "    </tr>\n",
       "  </thead>\n",
       "  <tbody>\n",
       "    <tr>\n",
       "      <th>0</th>\n",
       "      <td>842</td>\n",
       "      <td>0</td>\n",
       "      <td>2.2</td>\n",
       "      <td>0</td>\n",
       "      <td>1</td>\n",
       "      <td>0</td>\n",
       "      <td>7</td>\n",
       "      <td>0.6</td>\n",
       "      <td>188</td>\n",
       "      <td>2</td>\n",
       "      <td>...</td>\n",
       "      <td>756</td>\n",
       "      <td>2549</td>\n",
       "      <td>9</td>\n",
       "      <td>7</td>\n",
       "      <td>19</td>\n",
       "      <td>0</td>\n",
       "      <td>0</td>\n",
       "      <td>1</td>\n",
       "      <td>1.0</td>\n",
       "      <td>NaN</td>\n",
       "    </tr>\n",
       "    <tr>\n",
       "      <th>1</th>\n",
       "      <td>1021</td>\n",
       "      <td>1</td>\n",
       "      <td>0.5</td>\n",
       "      <td>1</td>\n",
       "      <td>0</td>\n",
       "      <td>1</td>\n",
       "      <td>53</td>\n",
       "      <td>0.7</td>\n",
       "      <td>136</td>\n",
       "      <td>3</td>\n",
       "      <td>...</td>\n",
       "      <td>1988</td>\n",
       "      <td>2631</td>\n",
       "      <td>17</td>\n",
       "      <td>3</td>\n",
       "      <td>7</td>\n",
       "      <td>1</td>\n",
       "      <td>1</td>\n",
       "      <td>0</td>\n",
       "      <td>2.0</td>\n",
       "      <td>NaN</td>\n",
       "    </tr>\n",
       "    <tr>\n",
       "      <th>2</th>\n",
       "      <td>563</td>\n",
       "      <td>1</td>\n",
       "      <td>0.5</td>\n",
       "      <td>1</td>\n",
       "      <td>2</td>\n",
       "      <td>1</td>\n",
       "      <td>41</td>\n",
       "      <td>0.9</td>\n",
       "      <td>145</td>\n",
       "      <td>5</td>\n",
       "      <td>...</td>\n",
       "      <td>1716</td>\n",
       "      <td>2603</td>\n",
       "      <td>11</td>\n",
       "      <td>2</td>\n",
       "      <td>9</td>\n",
       "      <td>1</td>\n",
       "      <td>1</td>\n",
       "      <td>0</td>\n",
       "      <td>2.0</td>\n",
       "      <td>NaN</td>\n",
       "    </tr>\n",
       "    <tr>\n",
       "      <th>3</th>\n",
       "      <td>615</td>\n",
       "      <td>1</td>\n",
       "      <td>2.5</td>\n",
       "      <td>0</td>\n",
       "      <td>0</td>\n",
       "      <td>0</td>\n",
       "      <td>10</td>\n",
       "      <td>0.8</td>\n",
       "      <td>131</td>\n",
       "      <td>6</td>\n",
       "      <td>...</td>\n",
       "      <td>1786</td>\n",
       "      <td>2769</td>\n",
       "      <td>16</td>\n",
       "      <td>8</td>\n",
       "      <td>11</td>\n",
       "      <td>1</td>\n",
       "      <td>0</td>\n",
       "      <td>0</td>\n",
       "      <td>2.0</td>\n",
       "      <td>NaN</td>\n",
       "    </tr>\n",
       "    <tr>\n",
       "      <th>4</th>\n",
       "      <td>1821</td>\n",
       "      <td>1</td>\n",
       "      <td>1.2</td>\n",
       "      <td>0</td>\n",
       "      <td>13</td>\n",
       "      <td>1</td>\n",
       "      <td>44</td>\n",
       "      <td>0.6</td>\n",
       "      <td>141</td>\n",
       "      <td>2</td>\n",
       "      <td>...</td>\n",
       "      <td>1212</td>\n",
       "      <td>1411</td>\n",
       "      <td>8</td>\n",
       "      <td>2</td>\n",
       "      <td>15</td>\n",
       "      <td>1</td>\n",
       "      <td>1</td>\n",
       "      <td>0</td>\n",
       "      <td>1.0</td>\n",
       "      <td>NaN</td>\n",
       "    </tr>\n",
       "  </tbody>\n",
       "</table>\n",
       "<p>5 rows × 22 columns</p>\n",
       "</div>"
      ],
      "text/plain": [
       "   battery_power  blue  clock_speed  dual_sim  fc  four_g  int_memory  m_dep  \\\n",
       "0            842     0          2.2         0   1       0           7    0.6   \n",
       "1           1021     1          0.5         1   0       1          53    0.7   \n",
       "2            563     1          0.5         1   2       1          41    0.9   \n",
       "3            615     1          2.5         0   0       0          10    0.8   \n",
       "4           1821     1          1.2         0  13       1          44    0.6   \n",
       "\n",
       "   mobile_wt  n_cores  ...  px_width   ram  sc_h  sc_w  talk_time  three_g  \\\n",
       "0        188        2  ...       756  2549     9     7         19        0   \n",
       "1        136        3  ...      1988  2631    17     3          7        1   \n",
       "2        145        5  ...      1716  2603    11     2          9        1   \n",
       "3        131        6  ...      1786  2769    16     8         11        1   \n",
       "4        141        2  ...      1212  1411     8     2         15        1   \n",
       "\n",
       "   touch_screen  wifi  price_range  id  \n",
       "0             0     1          1.0 NaN  \n",
       "1             1     0          2.0 NaN  \n",
       "2             1     0          2.0 NaN  \n",
       "3             0     0          2.0 NaN  \n",
       "4             1     0          1.0 NaN  \n",
       "\n",
       "[5 rows x 22 columns]"
      ]
     },
     "execution_count": 8,
     "metadata": {},
     "output_type": "execute_result"
    }
   ],
   "source": [
    "# concatenate both datsets.\n",
    "df = pd.concat([df_train,df_test],axis=0)\n",
    "df.reset_index(drop=True,inplace=True)\n",
    "df.head()"
   ]
  },
  {
   "cell_type": "code",
   "execution_count": 9,
   "id": "9f4af6fb",
   "metadata": {},
   "outputs": [
    {
     "data": {
      "text/plain": [
       "(3000, 22)"
      ]
     },
     "execution_count": 9,
     "metadata": {},
     "output_type": "execute_result"
    }
   ],
   "source": [
    "df.shape"
   ]
  },
  {
   "cell_type": "code",
   "execution_count": 10,
   "id": "c6ecc780",
   "metadata": {},
   "outputs": [
    {
     "data": {
      "text/plain": [
       "Index(['battery_power', 'blue', 'clock_speed', 'dual_sim', 'fc', 'four_g',\n",
       "       'int_memory', 'm_dep', 'mobile_wt', 'n_cores', 'pc', 'px_height',\n",
       "       'px_width', 'ram', 'sc_h', 'sc_w', 'talk_time', 'three_g',\n",
       "       'touch_screen', 'wifi', 'price_range', 'id'],\n",
       "      dtype='object')"
      ]
     },
     "execution_count": 10,
     "metadata": {},
     "output_type": "execute_result"
    }
   ],
   "source": [
    "df.columns"
   ]
  },
  {
   "cell_type": "code",
   "execution_count": 11,
   "id": "ed6f5302",
   "metadata": {},
   "outputs": [
    {
     "name": "stdout",
     "output_type": "stream",
     "text": [
      "<class 'pandas.core.frame.DataFrame'>\n",
      "RangeIndex: 3000 entries, 0 to 2999\n",
      "Data columns (total 22 columns):\n",
      " #   Column         Non-Null Count  Dtype  \n",
      "---  ------         --------------  -----  \n",
      " 0   battery_power  3000 non-null   int64  \n",
      " 1   blue           3000 non-null   int64  \n",
      " 2   clock_speed    3000 non-null   float64\n",
      " 3   dual_sim       3000 non-null   int64  \n",
      " 4   fc             3000 non-null   int64  \n",
      " 5   four_g         3000 non-null   int64  \n",
      " 6   int_memory     3000 non-null   int64  \n",
      " 7   m_dep          3000 non-null   float64\n",
      " 8   mobile_wt      3000 non-null   int64  \n",
      " 9   n_cores        3000 non-null   int64  \n",
      " 10  pc             3000 non-null   int64  \n",
      " 11  px_height      3000 non-null   int64  \n",
      " 12  px_width       3000 non-null   int64  \n",
      " 13  ram            3000 non-null   int64  \n",
      " 14  sc_h           3000 non-null   int64  \n",
      " 15  sc_w           3000 non-null   int64  \n",
      " 16  talk_time      3000 non-null   int64  \n",
      " 17  three_g        3000 non-null   int64  \n",
      " 18  touch_screen   3000 non-null   int64  \n",
      " 19  wifi           3000 non-null   int64  \n",
      " 20  price_range    2000 non-null   float64\n",
      " 21  id             1000 non-null   float64\n",
      "dtypes: float64(4), int64(18)\n",
      "memory usage: 515.8 KB\n"
     ]
    }
   ],
   "source": [
    "df.info()"
   ]
  },
  {
   "cell_type": "markdown",
   "id": "2c93ec66",
   "metadata": {},
   "source": [
    "Dataset as 21 features and 3000 entries. The meanings of the features are given below.\n",
    "\n",
    "battery_power: Total energy a battery can store in one time measured in mAh\n",
    "\n",
    "blue: Has bluetooth or not\n",
    "\n",
    "clock_speed: speed at which microprocessor executes instructions\n",
    "\n",
    "dual_sim: Has dual sim support or not\n",
    "\n",
    "fc: Front Camera mega pixels\n",
    "\n",
    "four_g: Has 4G or not\n",
    "\n",
    "int_memory: Internal Memory in Gigabytes\n",
    "\n",
    "m_dep: Mobile Depth in cm\n",
    "\n",
    "mobile_wt: Weight of mobile phone\n",
    "\n",
    "n_cores: Number of cores of processor\n",
    "\n",
    "pc: Primary Camera mega pixels\n",
    "\n",
    "px_height: Pixel Resolution Height\n",
    "\n",
    "px_width: Pixel Resolution Width\n",
    "\n",
    "ram: Random Access Memory in Mega Bytes\n",
    "\n",
    "sc_h: Screen Height of mobile in cm\n",
    "\n",
    "sc_w: Screen Width of mobile in cm\n",
    "\n",
    "talk_time: longest time that a single battery charge will last when you are\n",
    "\n",
    "three_g: Has 3G or not\n",
    "\n",
    "touch_screen: Has touch screen or not\n",
    "\n",
    "wifi: Has wifi or not\n",
    "\n",
    "price_range: This is the target variable with value of 0(low cost), 1(medium cost), 2(high cost) and 3(very high cost)."
   ]
  },
  {
   "cell_type": "code",
   "execution_count": 12,
   "id": "5a53fdbd",
   "metadata": {},
   "outputs": [
    {
     "data": {
      "text/plain": [
       "battery_power       0\n",
       "blue                0\n",
       "clock_speed         0\n",
       "dual_sim            0\n",
       "fc                  0\n",
       "four_g              0\n",
       "int_memory          0\n",
       "m_dep               0\n",
       "mobile_wt           0\n",
       "n_cores             0\n",
       "pc                  0\n",
       "px_height           0\n",
       "px_width            0\n",
       "ram                 0\n",
       "sc_h                0\n",
       "sc_w                0\n",
       "talk_time           0\n",
       "three_g             0\n",
       "touch_screen        0\n",
       "wifi                0\n",
       "price_range      1000\n",
       "id               2000\n",
       "dtype: int64"
      ]
     },
     "execution_count": 12,
     "metadata": {},
     "output_type": "execute_result"
    }
   ],
   "source": [
    "# No missing values\n",
    "df.isnull().sum()"
   ]
  },
  {
   "cell_type": "code",
   "execution_count": 13,
   "id": "b0202af6",
   "metadata": {},
   "outputs": [
    {
     "data": {
      "text/plain": [
       "battery_power      int64\n",
       "blue               int64\n",
       "clock_speed      float64\n",
       "dual_sim           int64\n",
       "fc                 int64\n",
       "four_g             int64\n",
       "int_memory         int64\n",
       "m_dep            float64\n",
       "mobile_wt          int64\n",
       "n_cores            int64\n",
       "pc                 int64\n",
       "px_height          int64\n",
       "px_width           int64\n",
       "ram                int64\n",
       "sc_h               int64\n",
       "sc_w               int64\n",
       "talk_time          int64\n",
       "three_g            int64\n",
       "touch_screen       int64\n",
       "wifi               int64\n",
       "price_range      float64\n",
       "id               float64\n",
       "dtype: object"
      ]
     },
     "execution_count": 13,
     "metadata": {},
     "output_type": "execute_result"
    }
   ],
   "source": [
    "df.dtypes"
   ]
  },
  {
   "cell_type": "code",
   "execution_count": 14,
   "id": "7d5b455b",
   "metadata": {},
   "outputs": [
    {
     "data": {
      "text/plain": [
       "(3000, 21)"
      ]
     },
     "execution_count": 14,
     "metadata": {},
     "output_type": "execute_result"
    }
   ],
   "source": [
    "df.drop(['id'],axis=1, inplace=True)\n",
    "df.shape"
   ]
  },
  {
   "cell_type": "code",
   "execution_count": 15,
   "id": "00636902",
   "metadata": {},
   "outputs": [],
   "source": [
    "# fill the Null vules in the data\n",
    "# for Numerical cols using median\n",
    "\n",
    "for i in df.columns:\n",
    "    df[i] = df[i].fillna(0)"
   ]
  },
  {
   "cell_type": "code",
   "execution_count": 16,
   "id": "55deca11",
   "metadata": {},
   "outputs": [
    {
     "name": "stdout",
     "output_type": "stream",
     "text": [
      "1715    9\n",
      "1807    8\n",
      "560     7\n",
      "1589    6\n",
      "1278    6\n",
      "       ..\n",
      "606     1\n",
      "1099    1\n",
      "551     1\n",
      "1633    1\n",
      "1797    1\n",
      "Name: battery_power, Length: 1275, dtype: int64\n",
      "1    1506\n",
      "0    1494\n",
      "Name: blue, dtype: int64\n",
      "0.5    612\n",
      "2.8    118\n",
      "0.6    114\n",
      "2.1    113\n",
      "1.6    113\n",
      "2.5    110\n",
      "1.4    109\n",
      "1.3    106\n",
      "2.3    106\n",
      "2.9    100\n",
      "2.6     95\n",
      "1.5     94\n",
      "1.8     94\n",
      "1.9     93\n",
      "2.0     92\n",
      "0.7     92\n",
      "0.9     92\n",
      "2.4     91\n",
      "1.7     90\n",
      "2.7     88\n",
      "2.2     88\n",
      "1.0     87\n",
      "0.8     87\n",
      "1.1     84\n",
      "1.2     83\n",
      "3.0     49\n",
      "Name: clock_speed, dtype: int64\n",
      "1    1536\n",
      "0    1464\n",
      "Name: dual_sim, dtype: int64\n",
      "0     684\n",
      "1     369\n",
      "2     286\n",
      "3     240\n",
      "4     213\n",
      "5     213\n",
      "6     171\n",
      "7     150\n",
      "9     119\n",
      "8     115\n",
      "10     99\n",
      "11     80\n",
      "12     62\n",
      "13     61\n",
      "14     36\n",
      "16     35\n",
      "15     35\n",
      "18     21\n",
      "17      8\n",
      "19      3\n",
      "Name: fc, dtype: int64\n",
      "1    1530\n",
      "0    1470\n",
      "Name: four_g, dtype: int64\n",
      "44    61\n",
      "27    60\n",
      "33    60\n",
      "14    60\n",
      "57    60\n",
      "      ..\n",
      "60    38\n",
      "62    38\n",
      "18    37\n",
      "4     30\n",
      "59    29\n",
      "Name: int_memory, Length: 63, dtype: int64\n",
      "0.1    459\n",
      "0.5    327\n",
      "0.8    313\n",
      "0.2    308\n",
      "0.9    302\n",
      "0.7    301\n",
      "0.3    287\n",
      "0.6    284\n",
      "0.4    264\n",
      "1.0    155\n",
      "Name: m_dep, dtype: int64\n",
      "101    37\n",
      "83     36\n",
      "105    35\n",
      "185    35\n",
      "198    34\n",
      "       ..\n",
      "126    16\n",
      "140    16\n",
      "176    14\n",
      "120    13\n",
      "96     12\n",
      "Name: mobile_wt, Length: 121, dtype: int64\n",
      "4    416\n",
      "2    381\n",
      "1    380\n",
      "8    377\n",
      "5    376\n",
      "3    373\n",
      "7    366\n",
      "6    331\n",
      "Name: n_cores, dtype: int64\n",
      "7     171\n",
      "10    166\n",
      "20    165\n",
      "1     161\n",
      "9     160\n",
      "14    159\n",
      "17    157\n",
      "6     151\n",
      "16    147\n",
      "3     144\n",
      "2     142\n",
      "0     141\n",
      "4     136\n",
      "12    136\n",
      "15    134\n",
      "8     129\n",
      "19    124\n",
      "18    123\n",
      "13    122\n",
      "11    121\n",
      "5     111\n",
      "Name: pc, dtype: int64\n",
      "371     9\n",
      "98      9\n",
      "35      8\n",
      "346     7\n",
      "667     7\n",
      "       ..\n",
      "340     1\n",
      "1353    1\n",
      "1301    1\n",
      "1878    1\n",
      "1409    1\n",
      "Name: px_height, Length: 1333, dtype: int64\n",
      "1247    8\n",
      "1552    8\n",
      "874     7\n",
      "1393    7\n",
      "1670    7\n",
      "       ..\n",
      "798     1\n",
      "1756    1\n",
      "771     1\n",
      "1954    1\n",
      "913     1\n",
      "Name: px_width, Length: 1313, dtype: int64\n",
      "3142    5\n",
      "2819    5\n",
      "2610    5\n",
      "305     4\n",
      "2940    4\n",
      "       ..\n",
      "912     1\n",
      "724     1\n",
      "1368    1\n",
      "3162    1\n",
      "1933    1\n",
      "Name: ram, Length: 2070, dtype: int64\n",
      "17    267\n",
      "12    221\n",
      "14    213\n",
      "7     212\n",
      "16    208\n",
      "15    207\n",
      "13    204\n",
      "11    195\n",
      "9     191\n",
      "19    188\n",
      "8     184\n",
      "10    181\n",
      "18    179\n",
      "6     176\n",
      "5     174\n",
      "Name: sc_h, dtype: int64\n",
      "1     309\n",
      "0     292\n",
      "3     283\n",
      "4     277\n",
      "2     263\n",
      "5     254\n",
      "6     203\n",
      "7     199\n",
      "8     169\n",
      "10    159\n",
      "9     143\n",
      "11    113\n",
      "12     89\n",
      "13     72\n",
      "14     53\n",
      "15     46\n",
      "16     36\n",
      "17     27\n",
      "18     13\n",
      "Name: sc_w, dtype: int64\n",
      "7     183\n",
      "19    179\n",
      "10    179\n",
      "4     178\n",
      "16    172\n",
      "15    161\n",
      "20    159\n",
      "6     155\n",
      "13    154\n",
      "8     154\n",
      "18    154\n",
      "12    153\n",
      "11    151\n",
      "2     150\n",
      "9     149\n",
      "14    147\n",
      "5     144\n",
      "3     143\n",
      "17    135\n",
      "Name: talk_time, dtype: int64\n",
      "1    2279\n",
      "0     721\n",
      "Name: three_g, dtype: int64\n",
      "1    1506\n",
      "0    1494\n",
      "Name: touch_screen, dtype: int64\n",
      "1    1521\n",
      "0    1479\n",
      "Name: wifi, dtype: int64\n",
      "0.0    1500\n",
      "1.0     500\n",
      "2.0     500\n",
      "3.0     500\n",
      "Name: price_range, dtype: int64\n"
     ]
    }
   ],
   "source": [
    "# Value_counts of the columns\n",
    "for i in df.columns:\n",
    "    print(df[i].value_counts())"
   ]
  },
  {
   "cell_type": "code",
   "execution_count": 17,
   "id": "8f3888a5",
   "metadata": {},
   "outputs": [
    {
     "data": {
      "text/plain": [
       "battery_power    0\n",
       "blue             0\n",
       "clock_speed      0\n",
       "dual_sim         0\n",
       "fc               0\n",
       "four_g           0\n",
       "int_memory       0\n",
       "m_dep            0\n",
       "mobile_wt        0\n",
       "n_cores          0\n",
       "pc               0\n",
       "px_height        0\n",
       "px_width         0\n",
       "ram              0\n",
       "sc_h             0\n",
       "sc_w             0\n",
       "talk_time        0\n",
       "three_g          0\n",
       "touch_screen     0\n",
       "wifi             0\n",
       "price_range      0\n",
       "dtype: int64"
      ]
     },
     "execution_count": 17,
     "metadata": {},
     "output_type": "execute_result"
    }
   ],
   "source": [
    "df.isnull().sum()"
   ]
  },
  {
   "cell_type": "code",
   "execution_count": 18,
   "id": "88950a4a",
   "metadata": {},
   "outputs": [],
   "source": [
    "# from scipy.stats import chi2_contingency,ttest_ind"
   ]
  },
  {
   "cell_type": "code",
   "execution_count": 19,
   "id": "eb2cce75",
   "metadata": {},
   "outputs": [],
   "source": [
    "# # perform T-Sample ttest.\n",
    "# for i in df.columns:\n",
    "#     g1 = np.array(df[df['price_range'] == 0][i])\n",
    "#     g2 = np.array(df[df['price_range'] == 1][i])\n",
    "    \n",
    "#     t,p = ttest_ind(g1,g2,axis=0,equal_var=False)\n",
    "    \n",
    "#     if p<0.05:\n",
    "#         print('UseFull for modeling',i)\n",
    "#     else:\n",
    "#         print('NotUseFull for modeling',i)"
   ]
  },
  {
   "cell_type": "code",
   "execution_count": 20,
   "id": "909df2e0",
   "metadata": {},
   "outputs": [],
   "source": [
    "# # chi2 Test for categorical values\n",
    "# for i in df.columns:\n",
    "#     cb = pd.crosstab(df_train['price_range'],df_train[i])\n",
    "#     chi,p,dof,exp = chi2_contingency(cb)\n",
    "\n",
    "#     if p<0.05:\n",
    "#         print('Useful: ',i)\n",
    "#     else:\n",
    "#         print('Not USeful: ',i)"
   ]
  },
  {
   "cell_type": "code",
   "execution_count": 21,
   "id": "512947a9",
   "metadata": {},
   "outputs": [],
   "source": [
    "# df = df.drop(['blue','clock_speed','dual_sim','fc','four_g','int_memory','m_dep','mobile_wt','n_cores','pc','px_height','px_width','sc_h','talk_time','three_g','touch_screen','wifi'],axis=1)"
   ]
  },
  {
   "cell_type": "code",
   "execution_count": 22,
   "id": "b0feb0f4",
   "metadata": {},
   "outputs": [
    {
     "data": {
      "text/plain": [
       "<AxesSubplot:>"
      ]
     },
     "execution_count": 22,
     "metadata": {},
     "output_type": "execute_result"
    },
    {
     "data": {
      "image/png": "[encoded data removed]",
      "text/plain": [
       "<Figure size 1080x864 with 2 Axes>"
      ]
     },
     "metadata": {
      "needs_background": "light"
     },
     "output_type": "display_data"
    }
   ],
   "source": [
    "plt.figure(figsize=(15,12))\n",
    "sns.heatmap(df.corr(), annot=True, cmap=\"YlGnBu\", linecolor='white', linewidths=1)"
   ]
  },
  {
   "cell_type": "markdown",
   "id": "d9443338",
   "metadata": {},
   "source": [
    "Price_range and ram are correlated to each other (0.59)\n"
   ]
  },
  {
   "cell_type": "code",
   "execution_count": 23,
   "id": "b563e278",
   "metadata": {},
   "outputs": [
    {
     "data": {
      "text/plain": [
       "price_range      1.000000\n",
       "ram              0.587445\n",
       "battery_power    0.123653\n",
       "px_width         0.114218\n",
       "px_height        0.108657\n",
       "sc_w             0.055307\n",
       "sc_h             0.035860\n",
       "four_g           0.029451\n",
       "n_cores          0.027115\n",
       "three_g          0.018917\n",
       "pc               0.015116\n",
       "wifi             0.012126\n",
       "talk_time        0.010179\n",
       "dual_sim         0.006930\n",
       "int_memory       0.003133\n",
       "blue             0.001155\n",
       "fc              -0.004610\n",
       "clock_speed     -0.010805\n",
       "mobile_wt       -0.013611\n",
       "m_dep           -0.015346\n",
       "touch_screen    -0.017898\n",
       "Name: price_range, dtype: float64"
      ]
     },
     "execution_count": 23,
     "metadata": {},
     "output_type": "execute_result"
    }
   ],
   "source": [
    "corr = df.corr()\n",
    "corr.sort_values(by=[\"price_range\"], ascending=False).iloc[0].sort_values(ascending=False)"
   ]
  },
  {
   "cell_type": "code",
   "execution_count": 24,
   "id": "5906a498",
   "metadata": {},
   "outputs": [],
   "source": [
    "# # perform Normalization using MinmaxScaler.\n",
    "# from sklearn.preprocessing import MinMaxScaler\n",
    "\n",
    "# ss = MinMaxScaler()\n",
    "# df = ss.fit_transform(df)"
   ]
  },
  {
   "cell_type": "code",
   "execution_count": 25,
   "id": "b175bf66",
   "metadata": {},
   "outputs": [],
   "source": [
    "y = df[\"price_range\"].values\n",
    "X = df.drop([\"price_range\"],axis=1)"
   ]
  },
  {
   "cell_type": "code",
   "execution_count": 26,
   "id": "9be6a9ea",
   "metadata": {},
   "outputs": [],
   "source": [
    "# Standard scaler:\n",
    "from sklearn.preprocessing import StandardScaler\n",
    "X_scaled = StandardScaler().fit_transform(X)"
   ]
  },
  {
   "cell_type": "code",
   "execution_count": 27,
   "id": "ab5c6f29",
   "metadata": {},
   "outputs": [],
   "source": [
    "# train test split\n",
    "from sklearn.model_selection import train_test_split\n",
    "x_train, x_test, y_train, y_test = train_test_split(X_scaled,y,test_size = 0.2,random_state=1)"
   ]
  },
  {
   "cell_type": "markdown",
   "id": "1cd14672",
   "metadata": {},
   "source": [
    "# Logistic Regression:"
   ]
  },
  {
   "cell_type": "code",
   "execution_count": 28,
   "id": "510433a3",
   "metadata": {},
   "outputs": [],
   "source": [
    "from sklearn.linear_model import LogisticRegression\n",
    "lreg = LogisticRegression()\n",
    "lreg.fit(x_train, y_train)\n",
    "y_pred = lreg.predict(x_test)"
   ]
  },
  {
   "cell_type": "code",
   "execution_count": 29,
   "id": "821ab2d2",
   "metadata": {},
   "outputs": [
    {
     "name": "stdout",
     "output_type": "stream",
     "text": [
      "Accuracy of Logistic Regression Model is:  55.333333333333336\n"
     ]
    }
   ],
   "source": [
    "from sklearn.metrics import accuracy_score\n",
    "lreg_accuracy = accuracy_score(y_test, y_pred) * 100\n",
    "print(\"Accuracy of Logistic Regression Model is: \",lreg_accuracy)"
   ]
  },
  {
   "cell_type": "code",
   "execution_count": 30,
   "id": "c8a868fa",
   "metadata": {},
   "outputs": [
    {
     "name": "stdout",
     "output_type": "stream",
     "text": [
      "Accuracy on Train data: 1.00\n"
     ]
    }
   ],
   "source": [
    "# Building Decision tree model\n",
    "\n",
    "from sklearn.tree import DecisionTreeClassifier\n",
    "from sklearn.metrics import classification_report,f1_score\n",
    "\n",
    "dtree = DecisionTreeClassifier(random_state=101)\n",
    "dtree.fit(x_train, y_train)\n",
    "\n",
    "dtree_predict = dtree.predict(x_test)\n",
    "\n",
    "print('Accuracy on Train data: %0.2f'%dtree.score(x_train, y_train))"
   ]
  },
  {
   "cell_type": "code",
   "execution_count": 31,
   "id": "154d777e",
   "metadata": {},
   "outputs": [
    {
     "name": "stdout",
     "output_type": "stream",
     "text": [
      "Train Accuracy : 0.5920833333333333\n"
     ]
    }
   ],
   "source": [
    "from sklearn.ensemble import RandomForestClassifier\n",
    "\n",
    "# RandomForest Model\n",
    "rf_model = RandomForestClassifier(max_depth=5,max_features='auto',random_state=1,criterion='entropy')\n",
    "\n",
    "# train the model\n",
    "rf_model.fit(x_train,y_train)\n",
    "y_pred_rf = rf_model.predict(x_test)\n",
    "\n",
    "print('Train Accuracy :',rf_model.score(x_train,y_train))"
   ]
  },
  {
   "cell_type": "code",
   "execution_count": 32,
   "id": "5f0a33d6",
   "metadata": {},
   "outputs": [],
   "source": [
    "\n",
    "# define a funtion which gives best Accuracy score.\n",
    "def score(model):\n",
    "    model.fit(x_train,y_train)\n",
    "    predict = model.predict(x_test)\n",
    "\n",
    "    print('train Accuracy :',model.score(x_train,y_train))\n",
    "\n",
    "    return predict"
   ]
  },
  {
   "cell_type": "code",
   "execution_count": 33,
   "id": "4616a9bc",
   "metadata": {},
   "outputs": [],
   "source": [
    "from sklearn.ensemble import BaggingClassifier,AdaBoostClassifier,GradientBoostingClassifier\n",
    "from sklearn.naive_bayes import GaussianNB\n",
    "\n",
    "# make the bagging classifier model with best parameters\n",
    "bgcl_best = BaggingClassifier(random_state=42,\n",
    "                              base_estimator=dtree,\n",
    "                              n_estimators = 100,\n",
    "                              max_samples=len(x_train),\n",
    "                              bootstrap=True,\n",
    "                              n_jobs=-1)\n",
    "\n",
    "\n",
    "# make the AdaBoost classifier with best parameters\n",
    "adcl_best = AdaBoostClassifier(random_state=10,\n",
    "                               n_estimators=50,\n",
    "                               learning_rate=1.0,\n",
    "                               base_estimator=dtree,\n",
    "                               algorithm='SAMME.R')\n",
    "\n",
    "\n",
    "# make gradient Boost Classifier with best parameters\n",
    "gbcl_best = GradientBoostingClassifier(random_state=10,\n",
    "                                       n_estimators=200,\n",
    "                                       min_samples_split=50,\n",
    "                                       min_samples_leaf=1,\n",
    "                                       min_impurity_split=0.5,\n",
    "                                       max_leaf_nodes=10,\n",
    "                                       max_features='sqrt',\n",
    "                                       max_depth=3,\n",
    "                                       learning_rate=0.1,\n",
    "                                       criterion='mse',\n",
    "                                       ccp_alpha=0.0)"
   ]
  },
  {
   "cell_type": "code",
   "execution_count": 34,
   "id": "ef888cc4",
   "metadata": {},
   "outputs": [
    {
     "name": "stdout",
     "output_type": "stream",
     "text": [
      "train Accuracy : 1.0\n"
     ]
    },
    {
     "data": {
      "text/plain": [
       "array([3., 0., 0., 3., 0., 3., 2., 1., 0., 1., 0., 0., 3., 0., 1., 1., 2.,\n",
       "       3., 0., 0., 0., 2., 0., 0., 1., 0., 0., 2., 3., 1., 0., 0., 3., 0.,\n",
       "       3., 0., 2., 1., 3., 0., 1., 0., 1., 2., 1., 0., 0., 1., 2., 0., 0.,\n",
       "       0., 2., 0., 0., 3., 0., 1., 0., 3., 0., 2., 3., 2., 0., 0., 3., 3.,\n",
       "       0., 0., 2., 0., 0., 2., 0., 2., 0., 2., 0., 2., 1., 2., 1., 2., 0.,\n",
       "       2., 0., 0., 2., 0., 0., 1., 0., 2., 1., 2., 0., 0., 0., 0., 0., 0.,\n",
       "       2., 2., 3., 1., 0., 0., 0., 0., 2., 0., 2., 1., 0., 1., 0., 0., 1.,\n",
       "       1., 0., 1., 1., 0., 2., 3., 3., 1., 1., 1., 0., 0., 3., 1., 0., 0.,\n",
       "       0., 0., 0., 0., 2., 0., 1., 1., 1., 0., 2., 0., 1., 0., 0., 0., 2.,\n",
       "       0., 2., 2., 0., 1., 0., 2., 2., 3., 2., 2., 1., 1., 2., 1., 1., 0.,\n",
       "       0., 1., 1., 3., 3., 1., 2., 3., 3., 3., 0., 0., 0., 2., 1., 0., 0.,\n",
       "       0., 1., 3., 3., 0., 0., 0., 0., 0., 0., 0., 0., 0., 2., 2., 1., 2.,\n",
       "       2., 2., 0., 1., 2., 0., 1., 3., 0., 3., 1., 0., 0., 3., 2., 2., 0.,\n",
       "       3., 0., 3., 2., 0., 0., 0., 3., 3., 0., 2., 2., 0., 0., 0., 2., 1.,\n",
       "       3., 3., 0., 2., 1., 0., 0., 0., 0., 1., 0., 0., 3., 3., 0., 1., 0.,\n",
       "       0., 0., 0., 2., 0., 3., 3., 1., 2., 0., 0., 0., 0., 0., 0., 3., 0.,\n",
       "       0., 2., 0., 2., 3., 2., 0., 3., 1., 0., 0., 2., 0., 2., 2., 0., 0.,\n",
       "       2., 0., 2., 1., 0., 0., 3., 3., 3., 2., 2., 0., 1., 0., 3., 0., 2.,\n",
       "       0., 2., 0., 0., 2., 0., 1., 0., 3., 3., 0., 1., 2., 2., 3., 0., 0.,\n",
       "       0., 0., 0., 1., 3., 1., 2., 0., 1., 2., 0., 2., 0., 1., 3., 3., 0.,\n",
       "       3., 0., 1., 0., 2., 3., 1., 2., 3., 0., 0., 2., 0., 3., 0., 0., 3.,\n",
       "       3., 3., 2., 1., 1., 1., 1., 0., 3., 0., 1., 2., 1., 2., 0., 0., 2.,\n",
       "       0., 2., 0., 3., 0., 1., 0., 2., 0., 0., 2., 2., 3., 0., 0., 0., 0.,\n",
       "       1., 0., 3., 0., 2., 0., 0., 3., 2., 2., 3., 0., 0., 3., 0., 2., 3.,\n",
       "       1., 3., 3., 0., 2., 0., 0., 0., 0., 0., 2., 1., 1., 1., 0., 2., 2.,\n",
       "       0., 3., 2., 0., 0., 0., 0., 2., 0., 0., 0., 0., 3., 0., 0., 0., 1.,\n",
       "       3., 0., 3., 1., 3., 3., 2., 0., 1., 3., 2., 0., 0., 0., 0., 3., 1.,\n",
       "       0., 0., 0., 1., 0., 1., 1., 0., 1., 0., 2., 0., 1., 0., 0., 0., 0.,\n",
       "       3., 3., 0., 1., 0., 0., 0., 0., 3., 0., 0., 1., 1., 0., 0., 0., 2.,\n",
       "       3., 2., 3., 1., 0., 0., 0., 3., 2., 0., 3., 1., 1., 0., 0., 2., 0.,\n",
       "       0., 0., 2., 2., 0., 3., 0., 2., 0., 1., 0., 1., 0., 1., 0., 1., 0.,\n",
       "       2., 2., 3., 0., 0., 2., 1., 0., 0., 0., 0., 0., 0., 0., 0., 2., 3.,\n",
       "       0., 1., 1., 0., 0., 0., 2., 0., 1., 2., 0., 0., 2., 0., 2., 0., 0.,\n",
       "       0., 0., 1., 2., 0., 0., 2., 3., 0., 1., 0., 0., 3., 1., 0., 0., 0.,\n",
       "       2., 3., 0., 0., 3., 2., 1., 0., 1., 3., 2., 0., 0., 2., 0., 1., 0.,\n",
       "       0., 1., 0., 0., 0.])"
      ]
     },
     "execution_count": 34,
     "metadata": {},
     "output_type": "execute_result"
    }
   ],
   "source": [
    "# score for bgcl\n",
    "score(bgcl_best)"
   ]
  },
  {
   "cell_type": "code",
   "execution_count": 35,
   "id": "6e1ee972",
   "metadata": {},
   "outputs": [
    {
     "name": "stdout",
     "output_type": "stream",
     "text": [
      "train Accuracy : 1.0\n"
     ]
    },
    {
     "data": {
      "text/plain": [
       "array([3., 0., 0., 3., 0., 3., 2., 1., 0., 0., 0., 0., 0., 1., 0., 1., 2.,\n",
       "       3., 0., 0., 0., 2., 1., 0., 1., 0., 0., 2., 3., 1., 3., 0., 3., 2.,\n",
       "       3., 3., 2., 1., 3., 0., 0., 0., 1., 2., 0., 0., 1., 0., 1., 1., 0.,\n",
       "       0., 2., 2., 0., 0., 0., 0., 0., 3., 0., 2., 0., 2., 0., 0., 3., 3.,\n",
       "       0., 0., 2., 0., 0., 2., 1., 2., 2., 0., 0., 2., 1., 2., 1., 2., 3.,\n",
       "       2., 1., 0., 2., 0., 0., 1., 0., 0., 1., 0., 2., 0., 0., 1., 0., 2.,\n",
       "       2., 0., 3., 1., 0., 0., 0., 1., 2., 0., 2., 0., 3., 0., 0., 3., 2.,\n",
       "       1., 0., 1., 0., 0., 0., 0., 3., 2., 1., 1., 0., 0., 3., 0., 0., 0.,\n",
       "       0., 0., 0., 1., 2., 0., 1., 1., 1., 0., 2., 0., 1., 1., 2., 0., 2.,\n",
       "       1., 2., 2., 0., 0., 0., 2., 0., 3., 2., 2., 1., 1., 2., 1., 0., 0.,\n",
       "       1., 1., 0., 3., 3., 1., 2., 2., 3., 3., 0., 0., 3., 2., 2., 0., 3.,\n",
       "       0., 0., 3., 3., 2., 3., 0., 1., 1., 2., 0., 0., 0., 2., 0., 0., 2.,\n",
       "       2., 1., 0., 0., 2., 0., 1., 0., 0., 0., 0., 0., 0., 3., 2., 2., 0.,\n",
       "       0., 0., 3., 0., 0., 0., 2., 3., 3., 0., 2., 0., 1., 0., 0., 2., 1.,\n",
       "       3., 0., 3., 2., 1., 1., 0., 0., 0., 0., 2., 0., 3., 0., 0., 1., 0.,\n",
       "       0., 2., 0., 2., 0., 3., 0., 1., 2., 0., 0., 0., 0., 0., 0., 3., 0.,\n",
       "       1., 2., 2., 2., 0., 1., 1., 3., 1., 1., 0., 0., 0., 2., 2., 0., 0.,\n",
       "       0., 0., 0., 1., 0., 0., 3., 0., 3., 2., 2., 0., 1., 1., 0., 0., 2.,\n",
       "       0., 3., 0., 2., 0., 0., 1., 2., 3., 3., 0., 2., 0., 2., 0., 1., 1.,\n",
       "       0., 0., 0., 1., 3., 0., 0., 0., 1., 2., 0., 0., 0., 1., 0., 3., 0.,\n",
       "       3., 3., 1., 0., 0., 3., 1., 2., 3., 0., 2., 0., 0., 2., 0., 3., 0.,\n",
       "       3., 3., 1., 1., 0., 1., 0., 2., 3., 0., 1., 0., 0., 3., 0., 0., 2.,\n",
       "       0., 2., 2., 3., 2., 2., 3., 2., 0., 0., 2., 2., 3., 0., 0., 1., 0.,\n",
       "       0., 1., 3., 0., 2., 0., 0., 3., 2., 2., 3., 1., 2., 3., 0., 2., 3.,\n",
       "       1., 3., 3., 0., 2., 0., 2., 0., 0., 0., 2., 2., 0., 2., 0., 2., 0.,\n",
       "       0., 3., 2., 0., 0., 0., 0., 2., 0., 0., 0., 1., 3., 0., 1., 0., 1.,\n",
       "       0., 0., 0., 1., 3., 0., 2., 0., 2., 3., 1., 1., 0., 3., 0., 3., 1.,\n",
       "       0., 0., 0., 1., 0., 1., 0., 0., 0., 1., 2., 0., 0., 0., 0., 0., 0.,\n",
       "       3., 3., 3., 0., 0., 2., 0., 0., 0., 2., 0., 1., 1., 0., 0., 0., 2.,\n",
       "       3., 2., 3., 0., 1., 2., 0., 3., 0., 0., 3., 1., 0., 0., 0., 0., 0.,\n",
       "       0., 0., 0., 3., 0., 0., 0., 2., 0., 0., 0., 1., 1., 2., 0., 1., 0.,\n",
       "       0., 2., 3., 0., 0., 0., 0., 0., 0., 0., 0., 0., 0., 0., 2., 0., 3.,\n",
       "       0., 0., 1., 3., 0., 0., 2., 2., 1., 0., 1., 2., 2., 0., 2., 0., 0.,\n",
       "       0., 2., 1., 2., 0., 0., 2., 3., 0., 1., 0., 0., 3., 1., 0., 0., 0.,\n",
       "       2., 0., 0., 0., 2., 3., 1., 0., 0., 3., 1., 2., 0., 0., 1., 0., 0.,\n",
       "       0., 1., 0., 2., 0.])"
      ]
     },
     "execution_count": 35,
     "metadata": {},
     "output_type": "execute_result"
    }
   ],
   "source": [
    "# score for adcl\n",
    "score(adcl_best)"
   ]
  },
  {
   "cell_type": "code",
   "execution_count": 36,
   "id": "52367dcc",
   "metadata": {},
   "outputs": [
    {
     "name": "stdout",
     "output_type": "stream",
     "text": [
      "train Accuracy : 0.49416666666666664\n"
     ]
    },
    {
     "data": {
      "text/plain": [
       "array([0., 0., 0., 0., 0., 0., 0., 0., 0., 0., 0., 0., 0., 0., 0., 0., 0.,\n",
       "       0., 0., 0., 0., 0., 0., 0., 0., 0., 0., 0., 0., 0., 0., 0., 0., 0.,\n",
       "       0., 0., 0., 0., 0., 0., 0., 0., 0., 0., 0., 0., 0., 0., 0., 0., 0.,\n",
       "       0., 0., 0., 0., 0., 0., 0., 0., 0., 0., 0., 0., 0., 0., 0., 0., 0.,\n",
       "       0., 0., 0., 0., 0., 0., 0., 0., 0., 0., 0., 0., 0., 0., 0., 0., 0.,\n",
       "       0., 0., 0., 0., 0., 0., 0., 0., 0., 0., 0., 0., 0., 0., 0., 0., 0.,\n",
       "       0., 0., 0., 0., 0., 0., 0., 0., 0., 0., 0., 0., 0., 0., 0., 0., 0.,\n",
       "       0., 0., 0., 0., 0., 0., 0., 0., 0., 0., 0., 0., 0., 0., 0., 0., 0.,\n",
       "       0., 0., 0., 0., 0., 0., 0., 0., 0., 0., 0., 0., 0., 0., 0., 0., 0.,\n",
       "       0., 0., 0., 0., 0., 0., 0., 0., 0., 0., 0., 0., 0., 0., 0., 0., 0.,\n",
       "       0., 0., 0., 0., 0., 0., 0., 0., 0., 0., 0., 0., 0., 0., 0., 0., 0.,\n",
       "       0., 0., 0., 0., 0., 0., 0., 0., 0., 0., 0., 0., 0., 0., 0., 0., 0.,\n",
       "       0., 0., 0., 0., 0., 0., 0., 0., 0., 0., 0., 0., 0., 0., 0., 0., 0.,\n",
       "       0., 0., 0., 0., 0., 0., 0., 0., 0., 0., 0., 0., 0., 0., 0., 0., 0.,\n",
       "       0., 0., 0., 0., 0., 0., 0., 0., 0., 0., 0., 0., 0., 0., 0., 0., 0.,\n",
       "       0., 0., 0., 0., 0., 0., 0., 0., 0., 0., 0., 0., 0., 0., 0., 0., 0.,\n",
       "       0., 0., 0., 0., 0., 0., 0., 0., 0., 0., 0., 0., 0., 0., 0., 0., 0.,\n",
       "       0., 0., 0., 0., 0., 0., 0., 0., 0., 0., 0., 0., 0., 0., 0., 0., 0.,\n",
       "       0., 0., 0., 0., 0., 0., 0., 0., 0., 0., 0., 0., 0., 0., 0., 0., 0.,\n",
       "       0., 0., 0., 0., 0., 0., 0., 0., 0., 0., 0., 0., 0., 0., 0., 0., 0.,\n",
       "       0., 0., 0., 0., 0., 0., 0., 0., 0., 0., 0., 0., 0., 0., 0., 0., 0.,\n",
       "       0., 0., 0., 0., 0., 0., 0., 0., 0., 0., 0., 0., 0., 0., 0., 0., 0.,\n",
       "       0., 0., 0., 0., 0., 0., 0., 0., 0., 0., 0., 0., 0., 0., 0., 0., 0.,\n",
       "       0., 0., 0., 0., 0., 0., 0., 0., 0., 0., 0., 0., 0., 0., 0., 0., 0.,\n",
       "       0., 0., 0., 0., 0., 0., 0., 0., 0., 0., 0., 0., 0., 0., 0., 0., 0.,\n",
       "       0., 0., 0., 0., 0., 0., 0., 0., 0., 0., 0., 0., 0., 0., 0., 0., 0.,\n",
       "       0., 0., 0., 0., 0., 0., 0., 0., 0., 0., 0., 0., 0., 0., 0., 0., 0.,\n",
       "       0., 0., 0., 0., 0., 0., 0., 0., 0., 0., 0., 0., 0., 0., 0., 0., 0.,\n",
       "       0., 0., 0., 0., 0., 0., 0., 0., 0., 0., 0., 0., 0., 0., 0., 0., 0.,\n",
       "       0., 0., 0., 0., 0., 0., 0., 0., 0., 0., 0., 0., 0., 0., 0., 0., 0.,\n",
       "       0., 0., 0., 0., 0., 0., 0., 0., 0., 0., 0., 0., 0., 0., 0., 0., 0.,\n",
       "       0., 0., 0., 0., 0., 0., 0., 0., 0., 0., 0., 0., 0., 0., 0., 0., 0.,\n",
       "       0., 0., 0., 0., 0., 0., 0., 0., 0., 0., 0., 0., 0., 0., 0., 0., 0.,\n",
       "       0., 0., 0., 0., 0., 0., 0., 0., 0., 0., 0., 0., 0., 0., 0., 0., 0.,\n",
       "       0., 0., 0., 0., 0., 0., 0., 0., 0., 0., 0., 0., 0., 0., 0., 0., 0.,\n",
       "       0., 0., 0., 0., 0.])"
      ]
     },
     "execution_count": 36,
     "metadata": {},
     "output_type": "execute_result"
    }
   ],
   "source": [
    "# score for gbcl\n",
    "score(gbcl_best)"
   ]
  },
  {
   "cell_type": "code",
   "execution_count": null,
   "id": "b747160c",
   "metadata": {},
   "outputs": [],
   "source": []
  },
  {
   "cell_type": "markdown",
   "id": "eaa87e71",
   "metadata": {},
   "source": [
    "# SVM:"
   ]
  },
  {
   "cell_type": "code",
   "execution_count": 37,
   "id": "9b3e4103",
   "metadata": {},
   "outputs": [
    {
     "data": {
      "text/plain": [
       "SVC(random_state=101)"
      ]
     },
     "execution_count": 37,
     "metadata": {},
     "output_type": "execute_result"
    }
   ],
   "source": [
    "from sklearn.svm import SVC\n",
    "svm = SVC(random_state=101)\n",
    "svm.fit(x_train, y_train)"
   ]
  },
  {
   "cell_type": "code",
   "execution_count": 38,
   "id": "d95ee740",
   "metadata": {},
   "outputs": [
    {
     "name": "stdout",
     "output_type": "stream",
     "text": [
      "Train Accuracy of SVM:  0.6666666666666666\n",
      "Test Accuracy of SVM:  0.5533333333333333\n"
     ]
    }
   ],
   "source": [
    "# Train & Test Accuracies:\n",
    "print(\"Train Accuracy of SVM: \", svm.score(x_train, y_train))\n",
    "print(\"Test Accuracy of SVM: \", svm.score(x_test, y_test))"
   ]
  },
  {
   "cell_type": "markdown",
   "id": "4f9a4e40",
   "metadata": {},
   "source": [
    "# GridSearchCV:"
   ]
  },
  {
   "cell_type": "code",
   "execution_count": 39,
   "id": "caf47492",
   "metadata": {},
   "outputs": [],
   "source": [
    "from sklearn.neighbors import KNeighborsClassifier\n",
    "### Number of nearest neighbors\n",
    "knn_clf = KNeighborsClassifier()"
   ]
  },
  {
   "cell_type": "code",
   "execution_count": 40,
   "id": "6f7d008b",
   "metadata": {},
   "outputs": [
    {
     "data": {
      "text/plain": [
       "KNeighborsClassifier()"
      ]
     },
     "execution_count": 40,
     "metadata": {},
     "output_type": "execute_result"
    }
   ],
   "source": [
    "knn_clf.fit(x_train, y_train)"
   ]
  },
  {
   "cell_type": "code",
   "execution_count": 41,
   "id": "85183db4",
   "metadata": {},
   "outputs": [],
   "source": [
    "param_grid = {'n_neighbors': list(range(1,9)),\n",
    "             'algorithm': ('auto', 'ball_tree', 'kd_tree' , 'brute') }"
   ]
  },
  {
   "cell_type": "code",
   "execution_count": 42,
   "id": "dba533e2",
   "metadata": {},
   "outputs": [],
   "source": [
    "from sklearn.model_selection import GridSearchCV\n",
    "gs = GridSearchCV(knn_clf,param_grid,cv=10)"
   ]
  },
  {
   "cell_type": "code",
   "execution_count": 43,
   "id": "896aa7c1",
   "metadata": {},
   "outputs": [
    {
     "data": {
      "text/plain": [
       "GridSearchCV(cv=10, estimator=KNeighborsClassifier(),\n",
       "             param_grid={'algorithm': ('auto', 'ball_tree', 'kd_tree', 'brute'),\n",
       "                         'n_neighbors': [1, 2, 3, 4, 5, 6, 7, 8]})"
      ]
     },
     "execution_count": 43,
     "metadata": {},
     "output_type": "execute_result"
    }
   ],
   "source": [
    "gs.fit(x_train, y_train)"
   ]
  },
  {
   "cell_type": "code",
   "execution_count": 44,
   "id": "ede50063",
   "metadata": {},
   "outputs": [
    {
     "data": {
      "text/plain": [
       "{'algorithm': 'auto', 'n_neighbors': 8}"
      ]
     },
     "execution_count": 44,
     "metadata": {},
     "output_type": "execute_result"
    }
   ],
   "source": [
    "gs.best_params_"
   ]
  },
  {
   "cell_type": "code",
   "execution_count": null,
   "id": "b62c3c4f",
   "metadata": {},
   "outputs": [],
   "source": []
  },
  {
   "cell_type": "markdown",
   "id": "86056b1e",
   "metadata": {},
   "source": [
    "# Pipeline_GridSearchcv"
   ]
  },
  {
   "cell_type": "code",
   "execution_count": 45,
   "id": "45444bf0",
   "metadata": {},
   "outputs": [
    {
     "name": "stdout",
     "output_type": "stream",
     "text": [
      "Test Accuracy: 0.523\n"
     ]
    }
   ],
   "source": [
    "from sklearn.pipeline import Pipeline \n",
    "from sklearn.decomposition import PCA \n",
    "pipe_lr = Pipeline([('scl', StandardScaler()), ('pca', PCA(n_components=2)), ('clf', LogisticRegression(random_state=1))]) \n",
    "pipe_lr.fit(x_train, y_train) \n",
    "print('Test Accuracy: %.3f' % pipe_lr.score(x_test, y_test))"
   ]
  },
  {
   "cell_type": "code",
   "execution_count": null,
   "id": "72713044",
   "metadata": {},
   "outputs": [],
   "source": []
  }
 ],
 "metadata": {
  "kernelspec": {
   "display_name": "Python 3 (ipykernel)",
   "language": "python",
   "name": "python3"
  },
  "language_info": {
   "codemirror_mode": {
    "name": "ipython",
    "version": 3
   },
   "file_extension": ".py",
   "mimetype": "text/x-python",
   "name": "python",
   "nbconvert_exporter": "python",
   "pygments_lexer": "ipython3",
   "version": "3.9.7"
  }
 },
 "nbformat": 4,
 "nbformat_minor": 5
}
